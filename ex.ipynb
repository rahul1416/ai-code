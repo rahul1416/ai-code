{
 "cells": [
  {
   "cell_type": "code",
   "execution_count": null,
   "metadata": {},
   "outputs": [
    {
     "name": "stdout",
     "output_type": "stream",
     "text": [
      "Generated Code:\n",
      " import sys\n",
      "import heapq\n",
      "\n",
      "def dijkstra(graph, start):\n",
      "    distances = {node: sys.maxsize for node in graph}\n",
      "    distances[start] = 0\n",
      "    queue = [(0, start)]\n",
      "\n",
      "    while queue:\n",
      "        current_distance, current_node = heapq.heappop(queue)\n",
      "\n",
      "        if current_distance > distances[current_node]:\n",
      "            continue\n",
      "\n",
      "        for neighbor, weight in graph[current_node].items():\n",
      "            distance = current_distance + weight\n",
      "\n",
      "            if distance < distances[neighbor]:\n",
      "                distances[neighbor] = distance\n",
      "                heapq.heappush(queue, (distance, neighbor))\n",
      "\n",
      "    return distances\n",
      "\n",
      "def main():\n",
      "    graph = {\n",
      "        'A': {'B': 1, 'C': 4},\n",
      "        'B': {'A': 1, 'C': 2, 'D': 5},\n",
      "        'C': {'A': 4, 'B': 2, 'D': 1},\n",
      "        'D': {'B': 5, 'C': 1}\n",
      "    }\n",
      "\n",
      "    start_node = 'A'\n",
      "    distances = dijkstra(graph, start_node)\n",
      "    print(distances)\n",
      "\n",
      "if __name__ == '__main__':\n",
      "    main()\n",
      "\n"
     ]
    }
   ],
   "source": [
    "import os\n",
    "import re\n",
    "import subprocess\n",
    "from dotenv import load_dotenv\n",
    "from langchain_groq import ChatGroq\n",
    "from langchain.schema import AIMessage, HumanMessage\n",
    "\n",
    "load_dotenv()\n",
    "\n",
    "llm = ChatGroq(model_name=\"llama-3.3-70b-versatile\")\n",
    "\n",
    "def generate_code(prompt):\n",
    "    \"\"\"\n",
    "    Generates structured code using LangChain with ChatGroq.\n",
    "    Ensures output contains only valid code.\n",
    "    \"\"\"\n",
    "    formatted_prompt = f\"Generate only structured code. Do not include explanations or comments.\\n\\n{prompt}\"\n",
    "\n",
    "    messages = [HumanMessage(content=formatted_prompt)]\n",
    "\n",
    "    response = llm.invoke(messages)\n",
    "    generated_text = response.content  # Extract text response\n",
    "\n",
    "    code_match = re.findall(r\"```(?:\\w+)?\\n(.*?)```\", generated_text, re.DOTALL)\n",
    "\n",
    "    if code_match:\n",
    "        return \"\\n\".join(code_match)\n",
    "    else:\n",
    "        return generated_text.strip()  \n",
    "\n",
    "prompt = \"Write a Python function that explains the diskstra algorithm\"\n",
    "generated_code = generate_code(prompt)\n",
    "\n",
    "with open(\"generated_script.py\", \"w\") as f:\n",
    "    f.write(generated_code)\n",
    "\n",
    "\n",
    "print(\"Generated Code:\\n\", generated_code)"
   ]
  },
  {
   "cell_type": "code",
   "execution_count": null,
   "metadata": {},
   "outputs": [
    {
     "data": {
      "text/plain": [
       "\"{'A': 0, 'B': 1, 'C': 3, 'D': 4}\\n\""
      ]
     },
     "execution_count": 13,
     "metadata": {},
     "output_type": "execute_result"
    }
   ],
   "source": [
    "output = subprocess.run([\"python\", \"generated_script.py\"], capture_output=True, text=True)"
   ]
  },
  {
   "cell_type": "code",
   "execution_count": null,
   "metadata": {},
   "outputs": [],
   "source": [
    "def execute_python_code(file):\n",
    "    result = subprocess.run([\"python\", file], capture_output=True, text=True)\n",
    "    return result.stdout, result.stderr\n",
    "\n",
    "file = \"generated_script.py\"\n",
    "output, error = execute_python_code(file)\n",
    "print(output)"
   ]
  },
  {
   "cell_type": "code",
   "execution_count": 54,
   "metadata": {},
   "outputs": [],
   "source": [
    "\n",
    "model = ChatGroq(\n",
    "    model=\"llama-3.1-8b-instant\",\n",
    "    temperature=0.3,\n",
    "    max_tokens=None,\n",
    "    timeout=None\n",
    ")\n",
    "def suggest_next_word(code_snippet):\n",
    "\n",
    "    prompt = f\"Complete this code: only write the next code that is nedded to come not anything else:\\n\\n{code_snippet} if you think code is completed and don't print anything\"\n",
    "    response = model.invoke(prompt)\n",
    "\n",
    "    return response.content \n",
    "\n",
    "code_snippet = \"def fibonacci(n):\"\n",
    "\n",
    "\n",
    "output = suggest_next_word(code_snippet)\n"
   ]
  },
  {
   "cell_type": "code",
   "execution_count": 48,
   "metadata": {},
   "outputs": [
    {
     "name": "stdout",
     "output_type": "stream",
     "text": [
      "return b\n"
     ]
    }
   ],
   "source": [
    "print(suggest_next_word(output))"
   ]
  },
  {
   "cell_type": "code",
   "execution_count": 17,
   "metadata": {},
   "outputs": [],
   "source": [
    "import subprocess\n",
    "def execute_python_code(file):\n",
    "    result = subprocess.run([\"python\", file], capture_output=True, text=True)\n",
    "    return result.stdout, result.stderr\n"
   ]
  },
  {
   "cell_type": "code",
   "execution_count": 18,
   "metadata": {},
   "outputs": [
    {
     "ename": "KeyboardInterrupt",
     "evalue": "",
     "output_type": "error",
     "traceback": [
      "\u001b[0;31m---------------------------------------------------------------------------\u001b[0m",
      "\u001b[0;31mKeyboardInterrupt\u001b[0m                         Traceback (most recent call last)",
      "Cell \u001b[0;32mIn[18], line 1\u001b[0m\n\u001b[0;32m----> 1\u001b[0m execute_python_code(\u001b[38;5;124m\"\u001b[39m\u001b[38;5;124mai-backend/generated_script.py\u001b[39m\u001b[38;5;124m\"\u001b[39m)\n",
      "Cell \u001b[0;32mIn[17], line 3\u001b[0m, in \u001b[0;36mexecute_python_code\u001b[0;34m(file)\u001b[0m\n\u001b[1;32m      2\u001b[0m \u001b[38;5;28;01mdef\u001b[39;00m \u001b[38;5;21mexecute_python_code\u001b[39m(file):\n\u001b[0;32m----> 3\u001b[0m     result \u001b[38;5;241m=\u001b[39m subprocess\u001b[38;5;241m.\u001b[39mrun([\u001b[38;5;124m\"\u001b[39m\u001b[38;5;124mpython\u001b[39m\u001b[38;5;124m\"\u001b[39m, file], capture_output\u001b[38;5;241m=\u001b[39m\u001b[38;5;28;01mTrue\u001b[39;00m, text\u001b[38;5;241m=\u001b[39m\u001b[38;5;28;01mTrue\u001b[39;00m)\n\u001b[1;32m      4\u001b[0m     \u001b[38;5;28;01mreturn\u001b[39;00m result\u001b[38;5;241m.\u001b[39mstdout, result\u001b[38;5;241m.\u001b[39mstderr\n",
      "File \u001b[0;32m~/anaconda3/lib/python3.12/subprocess.py:550\u001b[0m, in \u001b[0;36mrun\u001b[0;34m(input, capture_output, timeout, check, *popenargs, **kwargs)\u001b[0m\n\u001b[1;32m    548\u001b[0m \u001b[38;5;28;01mwith\u001b[39;00m Popen(\u001b[38;5;241m*\u001b[39mpopenargs, \u001b[38;5;241m*\u001b[39m\u001b[38;5;241m*\u001b[39mkwargs) \u001b[38;5;28;01mas\u001b[39;00m process:\n\u001b[1;32m    549\u001b[0m     \u001b[38;5;28;01mtry\u001b[39;00m:\n\u001b[0;32m--> 550\u001b[0m         stdout, stderr \u001b[38;5;241m=\u001b[39m process\u001b[38;5;241m.\u001b[39mcommunicate(\u001b[38;5;28minput\u001b[39m, timeout\u001b[38;5;241m=\u001b[39mtimeout)\n\u001b[1;32m    551\u001b[0m     \u001b[38;5;28;01mexcept\u001b[39;00m TimeoutExpired \u001b[38;5;28;01mas\u001b[39;00m exc:\n\u001b[1;32m    552\u001b[0m         process\u001b[38;5;241m.\u001b[39mkill()\n",
      "File \u001b[0;32m~/anaconda3/lib/python3.12/subprocess.py:1209\u001b[0m, in \u001b[0;36mPopen.communicate\u001b[0;34m(self, input, timeout)\u001b[0m\n\u001b[1;32m   1206\u001b[0m     endtime \u001b[38;5;241m=\u001b[39m \u001b[38;5;28;01mNone\u001b[39;00m\n\u001b[1;32m   1208\u001b[0m \u001b[38;5;28;01mtry\u001b[39;00m:\n\u001b[0;32m-> 1209\u001b[0m     stdout, stderr \u001b[38;5;241m=\u001b[39m \u001b[38;5;28mself\u001b[39m\u001b[38;5;241m.\u001b[39m_communicate(\u001b[38;5;28minput\u001b[39m, endtime, timeout)\n\u001b[1;32m   1210\u001b[0m \u001b[38;5;28;01mexcept\u001b[39;00m \u001b[38;5;167;01mKeyboardInterrupt\u001b[39;00m:\n\u001b[1;32m   1211\u001b[0m     \u001b[38;5;66;03m# https://bugs.python.org/issue25942\u001b[39;00m\n\u001b[1;32m   1212\u001b[0m     \u001b[38;5;66;03m# See the detailed comment in .wait().\u001b[39;00m\n\u001b[1;32m   1213\u001b[0m     \u001b[38;5;28;01mif\u001b[39;00m timeout \u001b[38;5;129;01mis\u001b[39;00m \u001b[38;5;129;01mnot\u001b[39;00m \u001b[38;5;28;01mNone\u001b[39;00m:\n",
      "File \u001b[0;32m~/anaconda3/lib/python3.12/subprocess.py:2113\u001b[0m, in \u001b[0;36mPopen._communicate\u001b[0;34m(self, input, endtime, orig_timeout)\u001b[0m\n\u001b[1;32m   2106\u001b[0m     \u001b[38;5;28mself\u001b[39m\u001b[38;5;241m.\u001b[39m_check_timeout(endtime, orig_timeout,\n\u001b[1;32m   2107\u001b[0m                         stdout, stderr,\n\u001b[1;32m   2108\u001b[0m                         skip_check_and_raise\u001b[38;5;241m=\u001b[39m\u001b[38;5;28;01mTrue\u001b[39;00m)\n\u001b[1;32m   2109\u001b[0m     \u001b[38;5;28;01mraise\u001b[39;00m \u001b[38;5;167;01mRuntimeError\u001b[39;00m(  \u001b[38;5;66;03m# Impossible :)\u001b[39;00m\n\u001b[1;32m   2110\u001b[0m         \u001b[38;5;124m'\u001b[39m\u001b[38;5;124m_check_timeout(..., skip_check_and_raise=True) \u001b[39m\u001b[38;5;124m'\u001b[39m\n\u001b[1;32m   2111\u001b[0m         \u001b[38;5;124m'\u001b[39m\u001b[38;5;124mfailed to raise TimeoutExpired.\u001b[39m\u001b[38;5;124m'\u001b[39m)\n\u001b[0;32m-> 2113\u001b[0m ready \u001b[38;5;241m=\u001b[39m selector\u001b[38;5;241m.\u001b[39mselect(timeout)\n\u001b[1;32m   2114\u001b[0m \u001b[38;5;28mself\u001b[39m\u001b[38;5;241m.\u001b[39m_check_timeout(endtime, orig_timeout, stdout, stderr)\n\u001b[1;32m   2116\u001b[0m \u001b[38;5;66;03m# XXX Rewrite these to use non-blocking I/O on the file\u001b[39;00m\n\u001b[1;32m   2117\u001b[0m \u001b[38;5;66;03m# objects; they are no longer using C stdio!\u001b[39;00m\n",
      "File \u001b[0;32m~/anaconda3/lib/python3.12/selectors.py:415\u001b[0m, in \u001b[0;36m_PollLikeSelector.select\u001b[0;34m(self, timeout)\u001b[0m\n\u001b[1;32m    413\u001b[0m ready \u001b[38;5;241m=\u001b[39m []\n\u001b[1;32m    414\u001b[0m \u001b[38;5;28;01mtry\u001b[39;00m:\n\u001b[0;32m--> 415\u001b[0m     fd_event_list \u001b[38;5;241m=\u001b[39m \u001b[38;5;28mself\u001b[39m\u001b[38;5;241m.\u001b[39m_selector\u001b[38;5;241m.\u001b[39mpoll(timeout)\n\u001b[1;32m    416\u001b[0m \u001b[38;5;28;01mexcept\u001b[39;00m \u001b[38;5;167;01mInterruptedError\u001b[39;00m:\n\u001b[1;32m    417\u001b[0m     \u001b[38;5;28;01mreturn\u001b[39;00m ready\n",
      "\u001b[0;31mKeyboardInterrupt\u001b[0m: "
     ]
    }
   ],
   "source": [
    "execute_python_code(\"ai-backend/generated_script.py\")"
   ]
  },
  {
   "cell_type": "code",
   "execution_count": 24,
   "metadata": {},
   "outputs": [
    {
     "name": "stdout",
     "output_type": "stream",
     "text": [
      "Code from the file:\n",
      "def factorial(n):\n",
      "    if n == 0:\n",
      "        return 1\n",
      "    else:\n",
      "        return n * factorial(n-1)\n",
      "\n",
      "def main():\n",
      "    num = 1\n",
      "    if num < 0:\n",
      "        print(\"Factorial is not defined for negative numbers\")\n",
      "    else:\n",
      "        print(\"Factorial of\", num, \"is\", factorial(num))\n",
      "\n",
      "if __name__ == \"__main__\":\n",
      "    main()\n",
      "\n",
      "Output from subprocess:\n",
      "Factorial of 1 is 1\n",
      "\n"
     ]
    }
   ],
   "source": [
    "import subprocess\n",
    "\n",
    "# Open the Python file and read its content\n",
    "with open(\"ai-backend/generated_script.py\", \"r\") as file:\n",
    "    code = file.read()\n",
    "print(\"Code from the file:\")\n",
    "print(code)\n",
    "\n",
    "# Create a subprocess to run the Python code\n",
    "process = subprocess.Popen(\n",
    "    ['python3', '-c', code],\n",
    "    stdin=subprocess.PIPE,\n",
    "    stdout=subprocess.PIPE,\n",
    "    stderr=subprocess.PIPE,\n",
    "    text=True\n",
    ")\n",
    "\n",
    "input_data = \"10\" \n",
    "stdout, stderr = process.communicate(input=str(input_data) + \"\\n\")\n",
    "\n",
    "print(\"Output from subprocess:\")\n",
    "print(stdout)\n",
    "\n",
    "# Print any errors from the subprocess\n",
    "if stderr:\n",
    "    print(\"Errors from subprocess:\")\n",
    "    print(stderr)\n"
   ]
  },
  {
   "cell_type": "code",
   "execution_count": null,
   "metadata": {},
   "outputs": [],
   "source": []
  },
  {
   "cell_type": "code",
   "execution_count": null,
   "metadata": {},
   "outputs": [],
   "source": []
  }
 ],
 "metadata": {
  "kernelspec": {
   "display_name": "base",
   "language": "python",
   "name": "python3"
  },
  "language_info": {
   "codemirror_mode": {
    "name": "ipython",
    "version": 3
   },
   "file_extension": ".py",
   "mimetype": "text/x-python",
   "name": "python",
   "nbconvert_exporter": "python",
   "pygments_lexer": "ipython3",
   "version": "3.12.2"
  }
 },
 "nbformat": 4,
 "nbformat_minor": 2
}
